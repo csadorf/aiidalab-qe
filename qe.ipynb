{
 "cells": [
  {
   "cell_type": "code",
   "execution_count": null,
   "metadata": {
    "scrolled": false
   },
   "outputs": [],
   "source": [
    "import ipywidgets as ipw\n",
    "from aiidalab_widgets_base import CodQueryWidget, SmilesWidget, StructureExamplesWidget\n",
    "from aiidalab_widgets_base import StructureBrowserWidget, StructureManagerWidget, StructureUploadWidget\n",
    "from aiidalab_widgets_base import OptimadeQueryWidget\n",
    "\n",
    "from wizard import WizardApp\n",
    "from structures import StructureSelectionStep\n",
    "from bands import ComputeBandsSubmitWidget\n",
    "\n",
    "from aiida.orm import StructureData\n",
    "\n",
    "OptimadeQueryWidget.title = \"OPTIMADE\"  # monkeypatch\n",
    "\n",
    "\n",
    "# Create the application steps\n",
    "structure_manager_widget = StructureManagerWidget(\n",
    "    importers=[\n",
    "        StructureUploadWidget(title=\"From computer\"),\n",
    "        CodQueryWidget(title=\"COD\"),\n",
    "        StructureBrowserWidget(title=\"AiiDA database\"),\n",
    "        OptimadeQueryWidget(embedded=True),\n",
    "        SmilesWidget(title=\"SMILES\"),  # requires OpenBabel! \n",
    "        StructureExamplesWidget(\n",
    "            title=\"From Examples\",\n",
    "            examples=[\n",
    "                (\"Silicon\", \"miscellaneous/structures/Si.xyz\"),\n",
    "                (\"Silicon oxide\", \"miscellaneous/structures/SiO2.xyz\"),\n",
    "            ]),\n",
    "    ],\n",
    "    node_class='StructureData',\n",
    ")\n",
    "structure_selection_step = StructureSelectionStep(manager=structure_manager_widget)\n",
    "structure_selection_step.auto_next = True\n",
    "compute_bands_step = ComputeBandsSubmitWidget()\n",
    "\n",
    "# Link the application steps\n",
    "ipw.dlink((structure_selection_step, 'confirmed_structure'), (compute_bands_step, 'input_structure'))\n",
    "\n",
    "\n",
    "# Add the application steps to the application\n",
    "app = WizardApp(\n",
    "    steps=[\n",
    "        ('Select structure', structure_selection_step),\n",
    "        ('Compute bands', compute_bands_step)])\n",
    "compute_bands_step.callbacks.append(lambda _: app._update_titles())\n",
    "\n",
    "# Add banner in case that pseudo potentials must be installed\n",
    "sssp_warning_banner = ipw.HTML(\"\"\"\n",
    "    <div class=\"alert alert-warning alert-dismissible\">\n",
    "    <a href=\"#\" class=\"close\" data-dismiss=\"alert\" aria-label=\"close\">&times;</a>\n",
    "    <p><strong>WARNING</strong>\n",
    "    The pseudo potential families required for this app are not yet installed.</p>\n",
    "    <p>In step 2: click on 'Pseudopotential', and then on 'Install pseudos' to install them.</p>\n",
    "    </div>\"\"\" if not compute_bands_step.sssp_install_widget.installed else \"\")\n",
    "\n",
    "display(sssp_warning_banner, app)"
   ]
  }
 ],
 "metadata": {
  "kernelspec": {
   "display_name": "Python 3",
   "language": "python",
   "name": "python3"
  },
  "language_info": {
   "codemirror_mode": {
    "name": "ipython",
    "version": 3
   },
   "file_extension": ".py",
   "mimetype": "text/x-python",
   "name": "python",
   "nbconvert_exporter": "python",
   "pygments_lexer": "ipython3",
   "version": "3.7.4"
  }
 },
 "nbformat": 4,
 "nbformat_minor": 2
}
